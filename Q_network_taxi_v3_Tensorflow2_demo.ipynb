{
  "nbformat": 4,
  "nbformat_minor": 0,
  "metadata": {
    "colab": {
      "name": "Q-network_taxi-v3-Tensorflow2-demo.ipynb",
      "provenance": [],
      "authorship_tag": "ABX9TyPi/W7Hgq3vOjZGr7crWzzw",
      "include_colab_link": true
    },
    "kernelspec": {
      "name": "python3",
      "display_name": "Python 3"
    },
    "language_info": {
      "name": "python"
    },
    "accelerator": "TPU"
  },
  "cells": [
    {
      "cell_type": "markdown",
      "metadata": {
        "id": "view-in-github",
        "colab_type": "text"
      },
      "source": [
        "<a href=\"https://colab.research.google.com/github/fab2112/Q-network_taxi-v3-Tensorflow2-demo/blob/main/Q_network_taxi_v3_Tensorflow2_demo.ipynb\" target=\"_parent\"><img src=\"https://colab.research.google.com/assets/colab-badge.svg\" alt=\"Open In Colab\"/></a>"
      ]
    },
    {
      "cell_type": "markdown",
      "metadata": {
        "id": "XzgCbIjUUPdt"
      },
      "source": [
        "# Demonstração do algorítmo Q-network no ambiente *taxi-v3* *openai* *gym* \n",
        "Este notebbok utiliza a biblioteca Tensorflow 2 para otimização de valores da tabela Q_table (Baseado em Q-learning)\n",
        "\n",
        "https://gym.openai.com/envs/Taxi-v3/"
      ]
    },
    {
      "cell_type": "markdown",
      "metadata": {
        "id": "Xn1bNtOTUlYO"
      },
      "source": [
        "# Importa bibliotecas"
      ]
    },
    {
      "cell_type": "code",
      "metadata": {
        "id": "t-8_1uJTT_Wn"
      },
      "source": [
        "from time import sleep, time\n",
        "import numpy as np\n",
        "import gym.spaces\n",
        "import tensorflow as tf\n",
        "import os\n",
        "import logging\n",
        "import matplotlib.pyplot as plt\n",
        "from IPython.display import clear_output\n",
        "import seaborn as sns"
      ],
      "execution_count": 9,
      "outputs": []
    },
    {
      "cell_type": "markdown",
      "metadata": {
        "id": "v8-YCoh6VBy0"
      },
      "source": [
        "# Instancia ambiente, inicializa variaveis e define parâmetros"
      ]
    },
    {
      "cell_type": "code",
      "metadata": {
        "id": "1Na9F2a3VZGz"
      },
      "source": [
        "# Instancia ambiente Taxi-v3 no gym\n",
        "env = gym.make(\"Taxi-v3\")\n",
        "\n",
        "# Inicializa variáveis\n",
        "Q_table = tf.Variable(tf.zeros([env.observation_space.n, env.action_space.n]), dtype=tf.float32)\n",
        "Q_next_state = tf.Variable(tf.zeros([1, env.action_space.n], dtype=tf.float32))\n",
        "action = tf.Variable(tf.zeros([1, ], dtype=tf.int64))\n",
        "total_epochs = 0\n",
        "total_rewards = []\n",
        "\n",
        "# Parâmetros Q-learning\n",
        "gamma = 0.7  # Future rewards\n",
        "epsilon = 0.6  # Exploration / exploitation\n",
        "epsilon_decay = .99\n",
        "episodes = 4000  # Rollouts\n",
        "learning_rate = 0.3"
      ],
      "execution_count": 10,
      "outputs": []
    },
    {
      "cell_type": "markdown",
      "metadata": {
        "id": "4vOf1MJlVjSa"
      },
      "source": [
        "# Fase de treino"
      ]
    },
    {
      "cell_type": "code",
      "metadata": {
        "colab": {
          "base_uri": "https://localhost:8080/"
        },
        "id": "YaeM5EdAVoat",
        "outputId": "21519a39-9a18-4966-a1a7-fac3173fa885"
      },
      "source": [
        "for episode in range(episodes):\n",
        "\n",
        "    time_before = float(time() * 1000)\n",
        "\n",
        "    reward = 0\n",
        "    epochs = 0\n",
        "    rewards_by_episode = 0\n",
        "    state = env.reset()\n",
        "\n",
        "    done = False\n",
        "    while not done:\n",
        "\n",
        "        # Seleciona uma ação aleatória - Exploration\n",
        "        if np.random.rand(1) < epsilon:\n",
        "            action.assign([env.action_space.sample()])\n",
        "        # Seleciona uma ação com maior valor Q - Exploitation\n",
        "        else:\n",
        "            action.assign(tf.argmax(Q_table[state:state + 1], 1))\n",
        "\n",
        "        # Move para próximo estado e atualiza parâmetros\n",
        "        next_state, reward, done, info = env.step(action[0].numpy())\n",
        "\n",
        "        # Atribui valores para tensor Q_next_state \n",
        "        Q_next_state.assign(Q_table[state:state + 1])\n",
        "\n",
        "        # Atualiza o valor da ultima ação para Q_next_state - Equação de Bellman\n",
        "        Q_next_state[0, action[0]].assign(reward + gamma * np.max(Q_table[next_state:next_state + 1]))\n",
        "\n",
        "        # Computa gradiente (minimiza diferença entre os ultimos estados)\n",
        "        with tf.GradientTape() as tape:\n",
        "            # Função de perda => (state - next_state)**2\n",
        "            j = tf.square(Q_table[state:state + 1] - Q_next_state)\n",
        "        # Calcula derivadas parciais\n",
        "        dp = tape.gradient(j, Q_table)\n",
        "\n",
        "        # Atualização dos valores Q-Table\n",
        "        Q_table.assign_sub(dp * learning_rate)\n",
        "\n",
        "        # Atualiza state para o estado atual\n",
        "        state = next_state\n",
        "\n",
        "        # Computa rewards por episodio\n",
        "        rewards_by_episode += reward\n",
        "\n",
        "        # Computa epocas por episodio\n",
        "        epochs += 1\n",
        "\n",
        "    # Monitoramento da latência do treino por espiósdio\n",
        "    time_after = float(time() * 1000)\n",
        "    latency = \"%.2f\" % (time_after - time_before)\n",
        "    #print(\"Episode \" + str(episode) + \" Latencia: \" + str(latency) + \" ms\")\n",
        "\n",
        "    # Decaimento de epsilon - Exploitation\n",
        "    epsilon = epsilon * epsilon_decay\n",
        "    total_epochs += epochs\n",
        "    total_rewards.append(rewards_by_episode)\n",
        "    clear_output(wait=True)\n",
        "    print(\"Rewards by episodes: {}\".format(rewards_by_episode))\n",
        "\n",
        "\n",
        "print(\"\\nSuccess rate epochs by episodes: {}\".format(total_epochs / episodes))"
      ],
      "execution_count": 11,
      "outputs": [
        {
          "output_type": "stream",
          "name": "stdout",
          "text": [
            "Rewards by episodes: 4\n",
            "\n",
            "Success rate epochs by episodes: 18.76175\n"
          ]
        }
      ]
    },
    {
      "cell_type": "markdown",
      "metadata": {
        "id": "x8871TIRVvNA"
      },
      "source": [
        "# Plota rewards x episodes"
      ]
    },
    {
      "cell_type": "code",
      "metadata": {
        "colab": {
          "base_uri": "https://localhost:8080/",
          "height": 427
        },
        "id": "RS0sxMFuVzs5",
        "outputId": "1431ea19-0ef4-4c0c-b622-3dc122fe25cd"
      },
      "source": [
        "# Plot total_rewards\n",
        "sns.set_theme()\n",
        "plt.clf()\n",
        "plt.figure(figsize=(15, 6))\n",
        "plt.plot(total_rewards, marker='.', linestyle='none')\n",
        "plt.title('Q-learning Agente')\n",
        "plt.ylabel('Rewards')\n",
        "plt.xlabel('Episodes')\n",
        "plt.show()"
      ],
      "execution_count": 12,
      "outputs": [
        {
          "output_type": "display_data",
          "data": {
            "text/plain": [
              "<Figure size 432x288 with 0 Axes>"
            ]
          },
          "metadata": {}
        },
        {
          "output_type": "display_data",
          "data": {
            "image/png": "[encoded data removed]",
            "text/plain": [
              "<Figure size 1080x432 with 1 Axes>"
            ]
          },
          "metadata": {}
        }
      ]
    },
    {
      "cell_type": "markdown",
      "metadata": {
        "id": "dsk0jIxWV7rh"
      },
      "source": [
        "# Fase de teste"
      ]
    },
    {
      "cell_type": "code",
      "metadata": {
        "colab": {
          "base_uri": "https://localhost:8080/"
        },
        "id": "neocM5MsV-yN",
        "outputId": "b9d97912-2f87-4fc3-b172-366ddcf3db76"
      },
      "source": [
        "# Após treino\n",
        "# Cria novo ambiente e vai para um estado aleatório\n",
        "state = env.reset()\n",
        "# Seleciona a ação indexada na Q_table com maior valor\n",
        "action = np.argmax(Q_table[state])\n",
        "for i in range(200):\n",
        "    sleep(0.2)\n",
        "    # Define o novo estado em função da ultima ação escolhida\n",
        "    next_state, reward, done, info = env.step(action)\n",
        "    # Seleciona a ação indexada com maior valor do vetor next_state\n",
        "    action = np.argmax(Q_table[next_state])\n",
        "    clear_output(wait=True)\n",
        "    env.render()\n",
        "    if reward >= 20:\n",
        "        print(\"\\n\\nNOVO AMBIENTE\\n\\n\")\n",
        "        sleep(0.5)\n",
        "        reward = 0\n",
        "        # Cria novo ambiente e vai para um estado aleatório\n",
        "        state = env.reset()\n",
        "        # Seleciona a ação indexada com maior valor do vetor state\n",
        "        action = np.argmax(Q_table[state])"
      ],
      "execution_count": 13,
      "outputs": [
        {
          "output_type": "stream",
          "name": "stdout",
          "text": [
            "+---------+\n",
            "|\u001b[35mR\u001b[0m: | : :G|\n",
            "| : | : : |\n",
            "| : : : : |\n",
            "| | : |\u001b[42m_\u001b[0m: |\n",
            "|Y| : |B: |\n",
            "+---------+\n",
            "  (North)\n"
          ]
        }
      ]
    }
  ]
}